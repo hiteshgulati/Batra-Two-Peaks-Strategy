{
 "cells": [
  {
   "cell_type": "code",
   "execution_count": 4,
   "metadata": {},
   "outputs": [
    {
     "name": "stdout",
     "output_type": "stream",
     "text": [
      "imported\n",
      "pandas numpy\n",
      "datetime\n",
      "json os\n",
      "Imported\n",
      "0\n",
      "1\n",
      "2\n",
      "2021-05-20 15:30:00\n"
     ]
    }
   ],
   "source": [
    "import pandas as pd\n",
    "print(\"imported\")\n",
    "import numpy as np\n",
    "print(\"pandas numpy\")\n",
    "from datetime import datetime \n",
    "from datetime import timedelta\n",
    "print(\"datetime\")\n",
    "import json\n",
    "import os\n",
    "print(\"json os\")\n",
    "print(\"Imported\")\n",
    "current_datetime = datetime(2021,5,17,15,0)\n",
    "print('0')\n",
    "start_datetime = datetime(2021,5,17,15,15)\n",
    "end_datetime = datetime(2021,5,20,15,15)\n",
    "historical_data_folder_name = 'historical data'\n",
    "fno_folder_name='FNO'\n",
    "equity_folder_name=\"Equity\"\n",
    "underlying_name= 'NIFTY'\n",
    "\n",
    "ltp_to_position_distance = .3\n",
    "\n",
    "print(\"1\")\n",
    "\n",
    "parent = os.path.dirname(os.getcwd())\n",
    "\n",
    "historical_data_folder_path = os.path.join(\\\n",
    "        parent,historical_data_folder_name)\n",
    "\n",
    "fno_data_folder_path = os.path.join(\\\n",
    "        historical_data_folder_path,fno_folder_name)\n",
    "\n",
    "equity_data_folder_path = os.path.join(\\\n",
    "    historical_data_folder_path,equity_folder_name)\n",
    "\n",
    "first_day_string = current_datetime.strftime(\"%Y-%m-%d\")\n",
    "first_fno_file_path = fno_file_paths = [\\\n",
    "        os.path.join(fno_data_folder_path,f) \\\n",
    "        for f in os.listdir(fno_data_folder_path) \\\n",
    "            if os.path.isfile(os.path.join(fno_data_folder_path,f)) \\\n",
    "                & (f.split(\".\")[0].split(\"_\")[0] == first_day_string)\\\n",
    "                    ]\n",
    "print(\"2\")\n",
    "\n",
    "# print(first_fno_file_path[0])\n",
    "\n",
    "first_fno_df = pd.read_csv(first_fno_file_path[0])\n",
    "\n",
    "expiry_datetime = pd.to_datetime(first_fno_df['expiry_date']).min() + timedelta (hours=15, minutes =30)\n",
    "         \n",
    "print(expiry_datetime)\n"
   ]
  },
  {
   "cell_type": "code",
   "execution_count": 1,
   "metadata": {},
   "outputs": [
    {
     "name": "stdout",
     "output_type": "stream",
     "text": [
      "Start\n"
     ]
    }
   ],
   "source": [
    "print(\"Start\")\n",
    "import pandas as pd\n",
    "print(\"pandas\")\n",
    "import numpy as np\n",
    "print(\"pandas numpy\")\n",
    "from datetime import datetime \n",
    "from datetime import timedelta\n",
    "print(\"datetime\")\n",
    "import json\n",
    "import os\n",
    "print(\"json os\")\n",
    "\n",
    "print(\"Imported\")\n",
    "current_datetime = datetime(2021,5,17,15,0)\n",
    "print('0')\n",
    "start_datetime = datetime(2021,5,17,15,15)\n",
    "end_datetime = datetime(2021,5,20,15,15)\n",
    "historical_data_folder_name = 'historical data'\n",
    "fno_folder_name='FNO'\n",
    "equity_folder_name=\"Equity\"\n",
    "underlying_name= 'NIFTY'\n",
    "\n",
    "ltp_to_position_distance = .3\n",
    "\n",
    "print(\"1\")\n",
    "\n",
    "parent = os.path.dirname(os.getcwd())\n",
    "\n",
    "historical_data_folder_path = os.path.join(\\\n",
    "        parent,historical_data_folder_name)\n",
    "\n",
    "fno_data_folder_path = os.path.join(\\\n",
    "        historical_data_folder_path,fno_folder_name)\n",
    "\n",
    "equity_data_folder_path = os.path.join(\\\n",
    "    historical_data_folder_path,equity_folder_name)\n",
    "\n",
    "first_day_string = current_datetime.strftime(\"%Y-%m-%d\")\n",
    "first_fno_file_path = fno_file_paths = [\\\n",
    "        os.path.join(fno_data_folder_path,f) \\\n",
    "        for f in os.listdir(fno_data_folder_path) \\\n",
    "            if os.path.isfile(os.path.join(fno_data_folder_path,f)) \\\n",
    "                & (f.split(\".\")[0].split(\"_\")[0] == first_day_string)\\\n",
    "                    ]\n",
    "print(\"2\")\n",
    "first_fno_df = pd.read_csv(first_fno_file_path)\n",
    "\n",
    "expiry_datetime = pd.to_datetime(first_fno_df['expiry_date']).min() + timedelta (hours=15, minutes =30)\n",
    "         \n",
    "print(expiry_datetime)\n"
   ]
  }
 ],
 "metadata": {
  "interpreter": {
   "hash": "aee8b7b246df8f9039afb4144a1f6fd8d2ca17a180786b69acc140d282b71a49"
  },
  "kernelspec": {
   "display_name": "Python 3.10.2 64-bit",
   "language": "python",
   "name": "python3"
  },
  "language_info": {
   "codemirror_mode": {
    "name": "ipython",
    "version": 3
   },
   "file_extension": ".py",
   "mimetype": "text/x-python",
   "name": "python",
   "nbconvert_exporter": "python",
   "pygments_lexer": "ipython3",
   "version": "3.10.2"
  },
  "orig_nbformat": 4
 },
 "nbformat": 4,
 "nbformat_minor": 2
}
